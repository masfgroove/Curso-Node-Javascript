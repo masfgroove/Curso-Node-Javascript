{
  "nbformat": 4,
  "nbformat_minor": 0,
  "metadata": {
    "colab": {
      "provenance": [],
      "toc_visible": true,
      "authorship_tag": "ABX9TyM82gy5QqmucCwyDBZZzRij",
      "include_colab_link": true
    },
    "kernelspec": {
      "name": "python3",
      "display_name": "Python 3"
    },
    "language_info": {
      "name": "python"
    }
  },
  "cells": [
    {
      "cell_type": "markdown",
      "metadata": {
        "id": "view-in-github",
        "colab_type": "text"
      },
      "source": [
        "<a href=\"https://colab.research.google.com/github/masfgroove/Curso-Node-Javascript/blob/master/Programa%C3%A7%C3%A3o_Python.ipynb\" target=\"_parent\"><img src=\"https://colab.research.google.com/assets/colab-badge.svg\" alt=\"Open In Colab\"/></a>"
      ]
    },
    {
      "cell_type": "code",
      "source": [
        "print('Bem vindo')"
      ],
      "metadata": {
        "colab": {
          "base_uri": "https://localhost:8080/"
        },
        "id": "McrodYGQXQgL",
        "outputId": "7e29da6d-6795-4c9e-9796-b15ef8d82c24"
      },
      "execution_count": null,
      "outputs": [
        {
          "output_type": "stream",
          "name": "stdout",
          "text": [
            "Bem vindo\n"
          ]
        }
      ]
    },
    {
      "cell_type": "code",
      "source": [
        "print('Bem vindo 2')"
      ],
      "metadata": {
        "colab": {
          "base_uri": "https://localhost:8080/"
        },
        "id": "YI4AW2DlXvDp",
        "outputId": "c0d9446b-aaa3-478f-a0ed-8deeb1144f45"
      },
      "execution_count": null,
      "outputs": [
        {
          "output_type": "stream",
          "name": "stdout",
          "text": [
            "Bem vindo 2\n"
          ]
        }
      ]
    },
    {
      "cell_type": "code",
      "source": [
        "#comentário"
      ],
      "metadata": {
        "id": "wzmojGHnX2KJ"
      },
      "execution_count": null,
      "outputs": []
    },
    {
      "cell_type": "code",
      "source": [
        "'''cometário'''"
      ],
      "metadata": {
        "colab": {
          "base_uri": "https://localhost:8080/",
          "height": 35
        },
        "id": "_OhaDXQ6X_m7",
        "outputId": "4dc6b05c-f1b7-4a7e-b679-66b89576423b"
      },
      "execution_count": null,
      "outputs": [
        {
          "output_type": "execute_result",
          "data": {
            "text/plain": [
              "'cometário'"
            ],
            "application/vnd.google.colaboratory.intrinsic+json": {
              "type": "string"
            }
          },
          "metadata": {},
          "execution_count": 5
        }
      ]
    },
    {
      "cell_type": "code",
      "source": [
        "print('Bem vindo\\n oi')"
      ],
      "metadata": {
        "colab": {
          "base_uri": "https://localhost:8080/"
        },
        "id": "C_0c80YjYKuF",
        "outputId": "c9224c2e-c802-4b85-826d-0f17b39495ea"
      },
      "execution_count": null,
      "outputs": [
        {
          "output_type": "stream",
          "name": "stdout",
          "text": [
            "Bem vindo\n",
            " oi\n"
          ]
        }
      ]
    },
    {
      "cell_type": "code",
      "source": [
        "# Operadores Matemáticos\n",
        "4 - 4\n"
      ],
      "metadata": {
        "id": "9NfCmhV5YdBI",
        "colab": {
          "base_uri": "https://localhost:8080/"
        },
        "outputId": "ea49293e-1abe-425c-9242-5d051df3917e"
      },
      "execution_count": 2,
      "outputs": [
        {
          "output_type": "execute_result",
          "data": {
            "text/plain": [
              "8"
            ]
          },
          "metadata": {},
          "execution_count": 2
        }
      ]
    },
    {
      "cell_type": "code",
      "source": [
        "# Divisão\n",
        "4 / 4\n"
      ],
      "metadata": {
        "colab": {
          "base_uri": "https://localhost:8080/"
        },
        "id": "AQkH65MRwU-d",
        "outputId": "61b90c6f-0d7f-4c72-e174-530c3a8c84bc"
      },
      "execution_count": 3,
      "outputs": [
        {
          "output_type": "execute_result",
          "data": {
            "text/plain": [
              "1.0"
            ]
          },
          "metadata": {},
          "execution_count": 3
        }
      ]
    },
    {
      "cell_type": "markdown",
      "source": [
        "OPeradores Matemáticos"
      ],
      "metadata": {
        "id": "PrUi0K08wm-O"
      }
    },
    {
      "cell_type": "code",
      "source": [
        "# Divisão\n",
        "4 / 5"
      ],
      "metadata": {
        "colab": {
          "base_uri": "https://localhost:8080/"
        },
        "id": "fVMDoNGnwl1f",
        "outputId": "d0593abe-874a-4605-939a-5de455f3b087"
      },
      "execution_count": 4,
      "outputs": [
        {
          "output_type": "execute_result",
          "data": {
            "text/plain": [
              "0.8"
            ]
          },
          "metadata": {},
          "execution_count": 4
        }
      ]
    },
    {
      "cell_type": "markdown",
      "source": [
        "3º Variáveis"
      ],
      "metadata": {
        "id": "aFk65RLpxPYk"
      }
    },
    {
      "cell_type": "code",
      "source": [
        "Nome = \"Marco Antonio\"\n",
        "print (Nome)"
      ],
      "metadata": {
        "colab": {
          "base_uri": "https://localhost:8080/"
        },
        "id": "XdtKy0x8xTDd",
        "outputId": "757aa500-644c-452d-be5e-98b1cb92f252"
      },
      "execution_count": 8,
      "outputs": [
        {
          "output_type": "stream",
          "name": "stdout",
          "text": [
            "Marco Antonio\n"
          ]
        }
      ]
    },
    {
      "cell_type": "code",
      "source": [
        "var_texto = str('texto88888')\n",
        "var_texto"
      ],
      "metadata": {
        "colab": {
          "base_uri": "https://localhost:8080/",
          "height": 35
        },
        "id": "cyLYgsimyIfm",
        "outputId": "8ff169c8-89b5-4cf6-92d6-7278739bbdb2"
      },
      "execution_count": 9,
      "outputs": [
        {
          "output_type": "execute_result",
          "data": {
            "text/plain": [
              "'texto88888'"
            ],
            "application/vnd.google.colaboratory.intrinsic+json": {
              "type": "string"
            }
          },
          "metadata": {},
          "execution_count": 9
        }
      ]
    },
    {
      "cell_type": "code",
      "source": [
        "String = str('Ola Mundo')\n",
        "Inteiro = int( 10 )\n",
        "Flutuante = float( 100.5)\n",
        "Complex = complex( 1j )\n",
        "Lista = list( ('Maça', 'Morango'))\n",
        "Tupla = tuple( ( 'A','B'))\n",
        "Range = range(6)\n",
        "Dicionario = dict( nome = \"Maria\", age = 4)\n",
        "Set = set(('A' , 'B' , 'C'))\n",
        "Fronzet = frozenset(('A' , 'B' , 'C'))\n",
        "Boleano = bool(5)\n",
        "Bytes = bytes(5)\n",
        "BytesArray = bytearray(5)\n",
        "Memoryview = memoryview( bytes(5))\n",
        "\n",
        "from datetime import datetime\n",
        "Data = datetime.today().date()"
      ],
      "metadata": {
        "id": "8GGrCM8s3rEw"
      },
      "execution_count": 20,
      "outputs": []
    },
    {
      "cell_type": "code",
      "source": [
        "type(String)"
      ],
      "metadata": {
        "colab": {
          "base_uri": "https://localhost:8080/"
        },
        "id": "aHBK6rji6xf6",
        "outputId": "043a803e-bba5-458a-9aa5-87f7ea13243f"
      },
      "execution_count": 21,
      "outputs": [
        {
          "output_type": "execute_result",
          "data": {
            "text/plain": [
              "str"
            ]
          },
          "metadata": {},
          "execution_count": 21
        }
      ]
    },
    {
      "cell_type": "code",
      "source": [
        "Data"
      ],
      "metadata": {
        "colab": {
          "base_uri": "https://localhost:8080/"
        },
        "id": "gR7c5lsB69Lq",
        "outputId": "7392ff02-2172-4e3f-eaf2-cfde8175fd47"
      },
      "execution_count": 22,
      "outputs": [
        {
          "output_type": "execute_result",
          "data": {
            "text/plain": [
              "datetime.date(2023, 12, 28)"
            ]
          },
          "metadata": {},
          "execution_count": 22
        }
      ]
    },
    {
      "cell_type": "code",
      "source": [
        "input('Alguma mensagem :')"
      ],
      "metadata": {
        "colab": {
          "base_uri": "https://localhost:8080/",
          "height": 53
        },
        "id": "zn5yeJWnFzjY",
        "outputId": "51be5ee6-b6b1-4f49-a6db-fe0b015e12e2"
      },
      "execution_count": 23,
      "outputs": [
        {
          "name": "stdout",
          "output_type": "stream",
          "text": [
            "Alguma mensagem :ola\n"
          ]
        },
        {
          "output_type": "execute_result",
          "data": {
            "text/plain": [
              "'ola'"
            ],
            "application/vnd.google.colaboratory.intrinsic+json": {
              "type": "string"
            }
          },
          "metadata": {},
          "execution_count": 23
        }
      ]
    }
  ]
}